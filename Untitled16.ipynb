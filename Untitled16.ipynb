{
  "nbformat": 4,
  "nbformat_minor": 0,
  "metadata": {
    "colab": {
      "provenance": [],
      "authorship_tag": "ABX9TyPEKJw0OgKpn2gEzpRIsoNk",
      "include_colab_link": true
    },
    "kernelspec": {
      "name": "python3",
      "display_name": "Python 3"
    },
    "language_info": {
      "name": "python"
    }
  },
  "cells": [
    {
      "cell_type": "markdown",
      "metadata": {
        "id": "view-in-github",
        "colab_type": "text"
      },
      "source": [
        "<a href=\"https://colab.research.google.com/github/MarcioAgliardi/Projeto-2021-08-21-a/blob/main/Untitled16.ipynb\" target=\"_parent\"><img src=\"https://colab.research.google.com/assets/colab-badge.svg\" alt=\"Open In Colab\"/></a>"
      ]
    },
    {
      "cell_type": "code",
      "execution_count": 2,
      "metadata": {
        "colab": {
          "base_uri": "https://localhost:8080/"
        },
        "id": "zGbiumAgPktV",
        "outputId": "95b0e454-f222-4eb5-d09a-e27ad0d697cc"
      },
      "outputs": [
        {
          "output_type": "stream",
          "name": "stdout",
          "text": [
            "a é menor do que b\n",
            "15\n",
            "a é maior do que b\n",
            "15\n",
            "Compra à prazo no cartão\n"
          ]
        }
      ],
      "source": [
        "#Estrutura condicional simples:\n",
        "a = 5\n",
        "b = 10\n",
        "\n",
        "if a < b:\n",
        "  print(\"a é menor do que b\")\n",
        "  r = a + b\n",
        "  print(r)\n",
        "\n",
        "#Estrutura composta\n",
        "a = 10\n",
        "b = 5\n",
        "\n",
        "if a < b:\n",
        "  print(\"a é menor do que b\")\n",
        "  r = a + b\n",
        "  print(r)\n",
        "else:\n",
        "  print(\"a é maior do que b\")\n",
        "  print(r)\n",
        "\n",
        "\n",
        "#Estrutura encadeada\n",
        "\n",
        "codigo_compra = 5444\n",
        "if codigo_compra == 5222:\n",
        "  print(\"Compra à vista.\")\n",
        "elif codigo_compra == 5333:\n",
        "  print(\"Compra à prazo no boleto.\")\n",
        "elif codigo_compra == 5444:\n",
        "  print(\"Compra à prazo no cartão\")\n",
        "else:\n",
        "  print(\"Código não cadastrado\")\n"
      ]
    }
  ]
}